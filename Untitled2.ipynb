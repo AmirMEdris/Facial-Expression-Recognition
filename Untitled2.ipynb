{
 "cells": [
  {
   "cell_type": "code",
   "execution_count": 27,
   "metadata": {},
   "outputs": [
    {
     "name": "stdout",
     "output_type": "stream",
     "text": [
      "estimated percent of votes taken at x:98\n",
      "num taken so far:144539\n",
      "votes left: 2949.775510204083\n",
      "biden percent so far: 53.4\n",
      "for x location you are saying biden has 77183.826  votes\n",
      "of the remaining 2949.775510204083  votes, if the current trend at this location continues\n",
      "biden will total about  1575.1801224489802  votes\n",
      "when its all said and done at location x im predicting biden will have 78759.00612244898\n",
      "trump percent so far: 45.0\n",
      "for x location you are saying trump has 65042.55  votes\n",
      "of the remaining 2949.775510204083  votes, if the current trend at this location continues\n",
      "trump will total about  1327.3989795918374  votes\n",
      "when its all said and done at location x im predicting trump will have 66369.94897959183\n",
      "trump is now at 1393801.8229118618 biden is now at 2278594.757723505 we are currently fucked by -884792.9348116433\n"
     ]
    }
   ],
   "source": [
    "estpercentofvotetaken = int(input('estimated percent of votes taken at x:'))\n",
    "numberofvotestaken = int(input('num taken so far:'))\n",
    "print('votes left:',((100/estpercentofvotetaken)*numberofvotestaken)-numberofvotestaken)\n",
    "remainingvotes=((100/estpercentofvotetaken)*numberofvotestaken)-numberofvotestaken\n",
    "bidenpercent = float(input('biden percent so far: '))/100\n",
    "currentbidenvotes=bidenpercent*numberofvotestaken\n",
    "print('for x location you are saying biden has',currentbidenvotes,' votes')\n",
    "print('of the remaining',remainingvotes,' votes, if the current trend at this location continues')\n",
    "predictedbidenvotes = bidenpercent*remainingvotes\n",
    "print('biden will total about ',predictedbidenvotes,' votes')\n",
    "print('when its all said and done at location x im predicting biden will have',predictedbidenvotes+currentbidenvotes)\n",
    "trumppercent = float(input('trump percent so far: '))/100\n",
    "currenttrumpvotes=trumppercent*numberofvotestaken\n",
    "print('for x location you are saying trump has',currenttrumpvotes,' votes')\n",
    "print('of the remaining',remainingvotes,' votes, if the current trend at this location continues')\n",
    "predictedtrumpvotes = trumppercent*remainingvotes\n",
    "print('trump will total about ',predictedtrumpvotes,' votes')\n",
    "print('when its all said and done at location x im predicting trump will have',predictedtrumpvotes+currenttrumpvotes)\n",
    "predbtotal=predictedbidenvotes+currentbidenvotes\n",
    "predttotal = predictedtrumpvotes+currenttrumpvotes\n",
    "trump +=predttotal\n",
    "biden += predbtotal\n",
    "print(f'trump is now at {trump} biden is now at {biden} we are currently fucked by {-biden--trump}')\n"
   ]
  },
  {
   "cell_type": "code",
   "execution_count": 16,
   "metadata": {},
   "outputs": [],
   "source": [
    "# trump = 0\n",
    "# biden = 0"
   ]
  },
  {
   "cell_type": "code",
   "execution_count": null,
   "metadata": {},
   "outputs": [],
   "source": []
  }
 ],
 "metadata": {
  "kernelspec": {
   "display_name": "Python 3",
   "language": "python",
   "name": "python3"
  },
  "language_info": {
   "codemirror_mode": {
    "name": "ipython",
    "version": 3
   },
   "file_extension": ".py",
   "mimetype": "text/x-python",
   "name": "python",
   "nbconvert_exporter": "python",
   "pygments_lexer": "ipython3",
   "version": "3.8.3"
  }
 },
 "nbformat": 4,
 "nbformat_minor": 4
}
