{
 "cells": [
  {
   "cell_type": "markdown",
   "metadata": {
    "id": "RyStMy4ZbyuR"
   },
   "source": [
    "# Iterative modeling process\n",
    "Importing our functions, loading in our images, train test splitting and one hot encoding them"
   ]
  },
  {
   "cell_type": "code",
   "execution_count": 1,
   "metadata": {
    "colab": {
     "base_uri": "https://localhost:8080/"
    },
    "id": "eHpemw4BERR1",
    "outputId": "e9024b6a-28ea-4e09-cec6-733d6b66d83f"
   },
   "outputs": [
    {
     "ename": "ModuleNotFoundError",
     "evalue": "No module named 'google.colab'",
     "output_type": "error",
     "traceback": [
      "\u001b[0;31m---------------------------------------------------------------------------\u001b[0m",
      "\u001b[0;31mModuleNotFoundError\u001b[0m                       Traceback (most recent call last)",
      "\u001b[0;32m<ipython-input-1-d5df0069828e>\u001b[0m in \u001b[0;36m<module>\u001b[0;34m\u001b[0m\n\u001b[0;32m----> 1\u001b[0;31m \u001b[0;32mfrom\u001b[0m \u001b[0mgoogle\u001b[0m\u001b[0;34m.\u001b[0m\u001b[0mcolab\u001b[0m \u001b[0;32mimport\u001b[0m \u001b[0mdrive\u001b[0m\u001b[0;34m\u001b[0m\u001b[0;34m\u001b[0m\u001b[0m\n\u001b[0m\u001b[1;32m      2\u001b[0m \u001b[0mdrive\u001b[0m\u001b[0;34m.\u001b[0m\u001b[0mmount\u001b[0m\u001b[0;34m(\u001b[0m\u001b[0;34m'/content/drive'\u001b[0m\u001b[0;34m)\u001b[0m\u001b[0;34m\u001b[0m\u001b[0;34m\u001b[0m\u001b[0m\n",
      "\u001b[0;31mModuleNotFoundError\u001b[0m: No module named 'google.colab'"
     ]
    }
   ],
   "source": [
    "from google.colab import drive\n",
    "drive.mount('/content/drive')\n"
   ]
  },
  {
   "cell_type": "code",
   "execution_count": null,
   "metadata": {
    "colab": {
     "base_uri": "https://localhost:8080/"
    },
    "id": "mjnNpYvnEeFz",
    "outputId": "89241606-9ecf-4a9a-8967-f857b4c89da9"
   },
   "outputs": [],
   "source": [
    "cd /content/drive/MyDrive/ColabNotebooks/Emoition-classification-from-facial-expression"
   ]
  },
  {
   "cell_type": "code",
   "execution_count": null,
   "metadata": {
    "colab": {
     "base_uri": "https://localhost:8080/"
    },
    "id": "bF3_a4eMEkbA",
    "outputId": "e81a1afd-5216-433d-f513-8117f415b262"
   },
   "outputs": [],
   "source": [
    "pip install keract\n"
   ]
  },
  {
   "cell_type": "code",
   "execution_count": null,
   "metadata": {
    "id": "BvD9PEDZsagZ"
   },
   "outputs": [],
   "source": [
    "from Functions import *\n",
    "from matplotlib.offsetbox import TextArea, DrawingArea, OffsetImage, AnnotationBbox\n"
   ]
  },
  {
   "cell_type": "code",
   "execution_count": null,
   "metadata": {
    "colab": {
     "base_uri": "https://localhost:8080/"
    },
    "id": "_vJ73-tHsage",
    "outputId": "33e8c369-bb6d-489e-d581-5e159b600e3f"
   },
   "outputs": [],
   "source": [
    "filname = 'fer2013.csv'\n",
    "label_map = ['Anger', 'Disgust', 'Fear', 'Happy', 'Sad', 'Surprise', 'Neutral']\n",
    "names=['emotion','pixels','usage']\n",
    "df=pd.read_csv('fer2013.csv',names=names)\n",
    "im=df['pixels']\n",
    "df.head(10)\n",
    "X, Y = getData(filname)\n",
    "num_class = len(set(Y))\n",
    "print(num_class)\n",
    "N, D = X.shape\n",
    "X = X.reshape(N, 48, 48, 1)\n",
    "cascade = load_cascade_classifier_xml()\n",
    "print(X.shape)\n",
    "X_train, X_test, y_train, y_test = train_test_split(X, Y, test_size=0.1, random_state=0)\n",
    "y_train = (np.arange(num_class) == y_train[:, None]).astype(np.float32)\n",
    "y_test = (np.arange(num_class) == y_test[:, None]).astype(np.float32)\n",
    "Y = (np.arange(num_class) == Y[:, None]).astype(np.float32)\n",
    "\n"
   ]
  },
  {
   "cell_type": "code",
   "execution_count": null,
   "metadata": {
    "id": "KQ5pk7qJ3IFa"
   },
   "outputs": [],
   "source": [
    "picdict = pkl.load(open('picdict2.pkl','rb'))\n",
    "visx = []\n",
    "visy = []\n",
    "for label, pic in picdict.items():\n",
    "  visx.append(pic)\n",
    "  visy.append(label)\n",
    "  "
   ]
  },
  {
   "cell_type": "markdown",
   "metadata": {
    "id": "gTshHbUVbyub"
   },
   "source": [
    "The first model that I started out with was pretrained and upon looking at its activations it seemed to not detect the characteristics of the expressions it was predicting. "
   ]
  },
  {
   "cell_type": "code",
   "execution_count": null,
   "metadata": {
    "id": "JYjxHmhAsagh"
   },
   "outputs": [],
   "source": [
    "model = Sequential()\n",
    "input_shape = (48,48,1)\n",
    "model.add(Conv2D(64, (5, 5), input_shape=input_shape,activation='relu', padding='same'))\n",
    "model.add(Conv2D(64, (5, 5), activation='relu', padding='same'))\n",
    "model.add(BatchNormalization())\n",
    "model.add(MaxPooling2D(pool_size=(2, 2)))\n",
    "\n",
    "model.add(Conv2D(128, (5, 5),activation='relu',padding='same'))\n",
    "model.add(Conv2D(128, (5, 5),activation='relu',padding='same'))\n",
    "model.add(BatchNormalization())\n",
    "model.add(MaxPooling2D(pool_size=(2, 2)))\n",
    "\n",
    "model.add(Conv2D(256, (3, 3),activation='relu',padding='same'))\n",
    "model.add(Conv2D(256, (3, 3),activation='relu',padding='same'))\n",
    "model.add(BatchNormalization())\n",
    "model.add(MaxPooling2D(pool_size=(2, 2)))\n",
    "\n",
    "model.add(Flatten())\n",
    "model.add(Dense(128))\n",
    "model.add(BatchNormalization())\n",
    "model.add(Activation('relu'))\n",
    "model.add(Dropout(0.2))\n",
    "model.add(Dense(7))\n",
    "model.add(Activation('softmax'))\n",
    "\n",
    "model.compile(loss='categorical_crossentropy', metrics=['accuracy'],optimizer='adam')"
   ]
  },
  {
   "cell_type": "code",
   "execution_count": null,
   "metadata": {
    "colab": {
     "base_uri": "https://localhost:8080/"
    },
    "id": "BMZj97qFsagl",
    "outputId": "0f4b3681-9267-4b2d-ed8e-e15d3865fcd3"
   },
   "outputs": [],
   "source": [
    "model.load_weights('firstmodel')"
   ]
  },
  {
   "cell_type": "code",
   "execution_count": null,
   "metadata": {
    "id": "PVWCZmuYsagp"
   },
   "outputs": [],
   "source": [
    "# model.save_weights('firstmodel')"
   ]
  },
  {
   "cell_type": "code",
   "execution_count": null,
   "metadata": {
    "colab": {
     "base_uri": "https://localhost:8080/",
     "height": 1000
    },
    "id": "4oUKp2vtsagr",
    "outputId": "9bd2a239-b3c0-4c9d-9deb-4eb310934be9"
   },
   "outputs": [],
   "source": [
    "\n",
    "\n",
    "model_eval(model,X_test,y_test,label_map,visx,visy)\n"
   ]
  },
  {
   "cell_type": "markdown",
   "metadata": {
    "id": "-SFS8svTbyuo"
   },
   "source": [
    "#### Second Model: Make layer simpler to see if it improves my model"
   ]
  },
  {
   "cell_type": "code",
   "execution_count": null,
   "metadata": {
    "id": "4bg7YWkGsagu"
   },
   "outputs": [],
   "source": [
    "model1 = Sequential()\n",
    "input_shape = (48,48,1)\n",
    "model1.add(Conv2D(512, (7, 7), input_shape=input_shape,activation='relu', padding='same'))\n",
    "model1.add(Conv2D(512, (7, 7), input_shape=input_shape,activation='relu', padding='same'))\n",
    "\n",
    "model1.add(BatchNormalization())\n",
    "model1.add(MaxPooling2D(pool_size=(2, 2)))\n",
    "\n",
    "\n",
    "\n",
    "model1.add(Flatten())\n",
    "model1.add(Activation('relu'))\n",
    "model1.add(Dense(64))\n",
    "model1.add(Dense(7))\n",
    "model1.add(Activation('softmax'))\n",
    "\n",
    "model1.compile(loss='categorical_crossentropy', metrics=['accuracy'],optimizer='adam')\n",
    "\n",
    "\n"
   ]
  },
  {
   "cell_type": "code",
   "execution_count": null,
   "metadata": {
    "colab": {
     "base_uri": "https://localhost:8080/"
    },
    "id": "GhZjIk8Tsagx",
    "outputId": "e3069642-8dfc-4650-8b03-2ed094aa7cd6"
   },
   "outputs": [],
   "source": [
    "model1.fit(X_train,y_train,epochs=10,validation_data=(X_test,y_test))"
   ]
  },
  {
   "cell_type": "code",
   "execution_count": null,
   "metadata": {
    "colab": {
     "base_uri": "https://localhost:8080/"
    },
    "id": "AtbfezTGsag0",
    "outputId": "90b07efa-a267-492e-85c6-b3988c24306c"
   },
   "outputs": [],
   "source": [
    "# model1.save_weights('model1')\n",
    "model1.load_weights('model1')"
   ]
  },
  {
   "cell_type": "code",
   "execution_count": null,
   "metadata": {
    "colab": {
     "base_uri": "https://localhost:8080/",
     "height": 1000
    },
    "id": "50AcKeSHsag2",
    "outputId": "a8958586-6878-4b8e-cd09-df5faffd6ded",
    "scrolled": true
   },
   "outputs": [],
   "source": [
    "model_eval(model1,X_test,y_test,label_map,visx,visy)\n"
   ]
  },
  {
   "cell_type": "markdown",
   "metadata": {
    "id": "6M9su15Vbyux"
   },
   "source": [
    "Happiness predicted well, surprise predictd well, rest are all pretty low. "
   ]
  },
  {
   "cell_type": "markdown",
   "metadata": {
    "id": "sWXVzHWabyuy"
   },
   "source": [
    "## Third Model: Let's see if we can make another layer "
   ]
  },
  {
   "cell_type": "code",
   "execution_count": null,
   "metadata": {
    "id": "wWJoLQtvsag5"
   },
   "outputs": [],
   "source": [
    "model2 = Sequential()\n",
    "input_shape = (48,48,1)\n",
    "model2.add(Conv2D(64, (3, 3), input_shape=input_shape,activation='relu', padding='same'))\n",
    "model2.add(MaxPooling2D(pool_size=(3, 3)))\n",
    "\n",
    "\n",
    "model2.add(Conv2D(64, (5, 5),activation='relu',padding='same'))\n",
    "model2.add(MaxPooling2D(pool_size=(2, 2)))\n",
    "\n",
    "\n",
    "\n",
    "model2.add(Flatten())\n",
    "\n",
    "\n",
    "\n",
    "model2.add(Activation('relu'))\n",
    "model2.add(Dense(64))\n",
    "model2.add(Activation('relu'))\n",
    "model2.add(Dense(7))\n",
    "model2.add(Activation('softmax'))\n",
    "\n",
    "model2.compile(loss='categorical_crossentropy', metrics=['accuracy'],optimizer='adam')"
   ]
  },
  {
   "cell_type": "code",
   "execution_count": null,
   "metadata": {
    "colab": {
     "base_uri": "https://localhost:8080/"
    },
    "id": "NTVrEApOsag7",
    "outputId": "4345435d-b3b4-403d-f4ea-174d84d41fd6"
   },
   "outputs": [],
   "source": [
    "model2.fit(X_train,y_train,epochs=15,validation_data=(X_test,y_test))"
   ]
  },
  {
   "cell_type": "code",
   "execution_count": null,
   "metadata": {
    "colab": {
     "base_uri": "https://localhost:8080/",
     "height": 1000
    },
    "id": "ujqvlRpUsag9",
    "outputId": "32f0e017-5b54-449f-f6dd-472175869374"
   },
   "outputs": [],
   "source": [
    "# model2.save_weights('model2')\n",
    "model2.load_weights('model2')\n",
    "\n",
    "model_eval(model2,X_test,y_test,label_map,visx,visy)\n"
   ]
  },
  {
   "cell_type": "markdown",
   "metadata": {
    "id": "IaCXYK48byu4"
   },
   "source": [
    "Happiness still predicted well but not as well so our prediction decreased than the previous model. "
   ]
  },
  {
   "cell_type": "code",
   "execution_count": null,
   "metadata": {
    "id": "RoKEqjShsahC"
   },
   "outputs": [],
   "source": [
    "model3 = Sequential()\n",
    "input_shape = (48,48,1)\n",
    "model3.add(Conv2D(256, (2, 2),activation='relu',padding='same'))\n",
    "model3.add(MaxPooling2D(pool_size=(2, 2)))\n",
    "model3.add(Conv2D(256, (2, 2),activation='relu',padding='same'))\n",
    "model3.add(MaxPooling2D(pool_size=(2, 2)))\n",
    "\n",
    "\n",
    "model3.add(Flatten())\n",
    "\n",
    "model3.add(Dense(256))\n",
    "model3.add(Activation('relu'))\n",
    "model3.add(Dense(128))\n",
    "model3.add(Activation('relu'))\n",
    "model3.add(Dense(7))\n",
    "model3.add(Activation('softmax'))\n",
    "\n",
    "model3.compile(loss='categorical_crossentropy', metrics=['accuracy'],optimizer='adam')"
   ]
  },
  {
   "cell_type": "code",
   "execution_count": null,
   "metadata": {
    "colab": {
     "base_uri": "https://localhost:8080/"
    },
    "id": "fD_FUqCmsahE",
    "outputId": "27af36ab-d907-4819-9e85-71b4776b92bb"
   },
   "outputs": [],
   "source": [
    "model3.fit(X_train,y_train,epochs=10,validation_data=(X_test,y_test))\n",
    "\n"
   ]
  },
  {
   "cell_type": "code",
   "execution_count": null,
   "metadata": {
    "colab": {
     "base_uri": "https://localhost:8080/",
     "height": 1000
    },
    "id": "sIM8dljfsahH",
    "outputId": "8fd2ba85-c4f3-483e-9d17-66f5519848df"
   },
   "outputs": [],
   "source": [
    "model3.load_weights('model3')\n",
    "# model3.save_weights('model3')\n",
    "model_eval(model3,X_test,y_test,label_map,visx,visy)\n"
   ]
  },
  {
   "cell_type": "markdown",
   "metadata": {
    "id": "Argqx8lmbyu-"
   },
   "source": [
    "Still do not have a big difference from other models. Let's keep trying"
   ]
  },
  {
   "cell_type": "markdown",
   "metadata": {
    "id": "hwtdka97byu-"
   },
   "source": [
    "## Model 4:"
   ]
  },
  {
   "cell_type": "code",
   "execution_count": null,
   "metadata": {
    "id": "bj79cYLYsahJ"
   },
   "outputs": [],
   "source": [
    "model4 = Sequential()\n",
    "input_shape = (48,48,1)\n",
    "model4.add(Conv2D(64, (2, 2), input_shape=input_shape,activation='relu', padding='same'))\n",
    "model4.add(Conv2D(64, (2, 2), input_shape=input_shape,activation='relu', padding='same'))\n",
    "model4.add(Conv2D(64, (5, 5), input_shape=input_shape,activation='relu', padding='same'))\n",
    "model4.add(BatchNormalization())\n",
    "model4.add(MaxPooling2D(pool_size=(2, 2)))\n",
    "\n",
    "model4.add(Conv2D(128, (2, 2),activation='relu',padding='same'))\n",
    "model4.add(Conv2D(128, (4, 4),activation='relu',padding='same'))\n",
    "model4.add(Conv2D(128, (2, 2),activation='relu',padding='same'))\n",
    "\n",
    "model4.add(BatchNormalization())\n",
    "model4.add(MaxPooling2D(pool_size=(2, 2)))\n",
    "\n",
    "\n",
    "model4.add(Flatten())\n",
    "\n",
    "\n",
    "\n",
    "model4.add(Activation('relu'))\n",
    "model4.add(Dense(250))\n",
    "\n",
    "model4.add(BatchNormalization())\n",
    "model4.add(Activation('relu'))\n",
    "model4.add(Dense(64))\n",
    "model4.add(Activation('relu'))\n",
    "model4.add(Dense(7))\n",
    "model4.add(Activation('softmax'))\n",
    "\n",
    "model4.compile(loss='categorical_crossentropy', metrics=['accuracy'],optimizer='adam')\n"
   ]
  },
  {
   "cell_type": "code",
   "execution_count": null,
   "metadata": {
    "colab": {
     "base_uri": "https://localhost:8080/"
    },
    "id": "SwfeZjNUsahL",
    "outputId": "a141dbfd-790c-47da-f303-813d9b9f8611"
   },
   "outputs": [],
   "source": [
    "model4.fit(X_train,y_train,epochs=10,validation_data=(X_test,y_test))\n"
   ]
  },
  {
   "cell_type": "code",
   "execution_count": null,
   "metadata": {
    "colab": {
     "base_uri": "https://localhost:8080/"
    },
    "id": "II9AEY_0sahN",
    "outputId": "e7bd71f4-937f-47ee-eaac-4b018d9cbec5"
   },
   "outputs": [],
   "source": [
    "# model4.save_weights('model4')\n",
    "model4.load_weights('model4')\n"
   ]
  },
  {
   "cell_type": "code",
   "execution_count": null,
   "metadata": {
    "colab": {
     "base_uri": "https://localhost:8080/",
     "height": 1000
    },
    "id": "RYct5h9bsahP",
    "outputId": "018182ba-a393-4291-b2bb-27c2a66e400f"
   },
   "outputs": [],
   "source": [
    "model_eval(model4,X_test,y_test,label_map,visx,visy)\n"
   ]
  },
  {
   "cell_type": "code",
   "execution_count": null,
   "metadata": {
    "id": "zJsHmBVbw55t"
   },
   "outputs": [],
   "source": [
    "model5 = Sequential()\n",
    "input_shape = (48,48,1)\n",
    "model5.add(Conv2D(512, (2, 2), input_shape=input_shape,activation='relu', padding='same'))\n",
    "model5.add(Conv2D(256, (3, 3), input_shape=input_shape,activation='relu', padding='same'))\n",
    "model5.add(Conv2D(128, (4, 4),activation='relu',padding='same'))\n",
    "model5.add(Conv2D(64, (5, 5),activation='relu',padding='same'))\n",
    "model5.add(BatchNormalization())\n",
    "model5.add(MaxPooling2D(pool_size=(2, 2)))\n",
    "model5.add(Conv2D(512, (2, 2), input_shape=input_shape,activation='relu', padding='same'))\n",
    "model5.add(Conv2D(256, (3, 3), input_shape=input_shape,activation='relu', padding='same'))\n",
    "model5.add(Conv2D(128, (4, 4),activation='relu',padding='same'))\n",
    "model5.add(Conv2D(64, (5, 5),activation='relu',padding='same'))\n",
    "\n",
    "model5.add(BatchNormalization())\n",
    "model5.add(MaxPooling2D(pool_size=(2, 2)))\n",
    "\n",
    "\n",
    "model5.add(Flatten())\n",
    "\n",
    "\n",
    "model5.add(Dense(125))\n",
    "model5.add(BatchNormalization())\n",
    "model5.add(Activation('relu'))\n",
    "\n",
    "model5.add(Dense(15))\n",
    "model5.add(BatchNormalization())\n",
    "model5.add(Activation('relu'))\n",
    "\n",
    "model5.add(Dense(7))\n",
    "model5.add(BatchNormalization())\n",
    "model5.add(Activation('softmax'))\n",
    "\n",
    "model5.compile(loss='categorical_crossentropy', metrics=['accuracy'],optimizer='adam')\n"
   ]
  },
  {
   "cell_type": "code",
   "execution_count": null,
   "metadata": {
    "colab": {
     "base_uri": "https://localhost:8080/"
    },
    "id": "mPf8lv0rw55z",
    "outputId": "70ff6991-bf65-4f6f-d28f-471f96a393c4"
   },
   "outputs": [],
   "source": [
    "model5.fit(X_train,y_train,epochs=10,validation_data=(X_test,y_test))\n"
   ]
  },
  {
   "cell_type": "code",
   "execution_count": null,
   "metadata": {
    "colab": {
     "base_uri": "https://localhost:8080/",
     "height": 1000
    },
    "id": "_Lh_ogYUw551",
    "outputId": "a6d9e234-dd0c-4e70-b9fd-258ba0baf822"
   },
   "outputs": [],
   "source": [
    "# model5.save_weights('model5')\n",
    "model5.load_weights('model5')\n",
    "\n",
    "model_eval(model5,X_test,y_test,label_map,visx,visy)\n"
   ]
  },
  {
   "cell_type": "code",
   "execution_count": null,
   "metadata": {
    "id": "K4M_iRzFzTMw"
   },
   "outputs": [],
   "source": [
    "model6 = Sequential()\n",
    "input_shape = (48,48,1)\n",
    "model6.add(Conv2D(512, (2, 2), input_shape=input_shape,activation='relu', padding='same'))\n",
    "model6.add(Conv2D(512, (3, 3), input_shape=input_shape,activation='relu', padding='same'))\n",
    "\n",
    "model6.add(MaxPooling2D(pool_size=(2, 2)))\n",
    "model6.add(Dropout(0.2))\n",
    "\n",
    "model6.add(Conv2D(128, (5, 5),activation='relu',padding='same'))\n",
    "model6.add(MaxPooling2D(pool_size=(2, 2)))\n",
    "model6.add(Dropout(0.2))\n",
    "\n",
    "model6.add(Conv2D(512, (2, 2),activation='relu',padding='same'))\n",
    "model6.add(BatchNormalization())\n",
    "model6.add(MaxPooling2D(pool_size=(2, 2)))\n",
    "model6.add(Dropout(0.2))\n",
    "\n",
    "model6.add(Flatten())\n",
    "model6.add(BatchNormalization())\n",
    "\n",
    "model6.add(Dense(500))\n",
    "model6.add(Activation('relu'))\n",
    "model6.add(Dropout(0.5))\n",
    "\n",
    "model6.add(Dense(500))\n",
    "model6.add(Activation('relu'))\n",
    "model6.add(Dropout(0.5))\n",
    "\n",
    "model6.add(BatchNormalization())\n",
    "\n",
    "model6.add(Dense(500))\n",
    "model6.add(Activation('relu'))\n",
    "model6.add(Dropout(0.3))\n",
    "\n",
    "model6.add(BatchNormalization())\n",
    "\n",
    "\n",
    "model6.add(Dense(125))\n",
    "model6.add(Activation('relu'))\n",
    "model6.add(Dropout(0.3))\n",
    "\n",
    "\n",
    "\n",
    "model6.add(Dense(7))\n",
    "model6.add(Activation('softmax'))\n",
    "\n",
    "model6.compile(loss='categorical_crossentropy', metrics=['accuracy'],optimizer='adam')\n"
   ]
  },
  {
   "cell_type": "code",
   "execution_count": null,
   "metadata": {
    "colab": {
     "base_uri": "https://localhost:8080/"
    },
    "id": "zyPXWxvFzTM0",
    "outputId": "fc4ad6aa-af0c-40f9-9e58-fc94a6de1b8b"
   },
   "outputs": [],
   "source": [
    "model6.fit(X_train,y_train,epochs=15,batch_size=100,validation_data=(X_test,y_test))\n"
   ]
  },
  {
   "cell_type": "code",
   "execution_count": null,
   "metadata": {
    "colab": {
     "base_uri": "https://localhost:8080/",
     "height": 1000
    },
    "id": "txmGXcbWzTM2",
    "outputId": "0fe13bd6-387e-4ec8-8dcc-77ee2ac7028a"
   },
   "outputs": [],
   "source": [
    "# model6.save_weights('model6')\n",
    "model6.load_weights('model6')\n",
    "\n",
    "model_eval(model6,X_test,y_test,label_map,visx,visy)\n"
   ]
  },
  {
   "cell_type": "code",
   "execution_count": null,
   "metadata": {
    "id": "AfjsLltT8t44"
   },
   "outputs": [],
   "source": []
  },
  {
   "cell_type": "code",
   "execution_count": null,
   "metadata": {
    "id": "EOTWaF8J0H1v"
   },
   "outputs": [],
   "source": [
    "model7 = Sequential()\n",
    "input_shape = (48,48,1)\n",
    "model7.add(Conv2D(512, (2, 2), input_shape=input_shape,activation='relu', padding='same'))\n",
    "\n",
    "model7.add(MaxPooling2D(pool_size=(2, 2)))\n",
    "\n",
    "model7.add(Conv2D(128, (2, 2), activation='relu', padding='same'))\n",
    "model7.add(Dropout(0.2))\n",
    "model7.add(Conv2D(128, (6, 6), activation='relu', padding='same'))\n",
    "model7.add(Dropout(0.2))\n",
    "\n",
    "model7.add(MaxPooling2D(pool_size=(2, 2)))\n",
    "\n",
    "model7.add(Conv2D(128, (2, 2),activation='relu',padding='same'))\n",
    "model7.add(Dropout(0.2))\n",
    "\n",
    "model7.add(Conv2D(128, (4, 4), activation='relu', padding='same'))\n",
    "model7.add(Dropout(0.2))\n",
    "model7.add(BatchNormalization())\n",
    "\n",
    "\n",
    "model7.add(Flatten())\n",
    "model7.add(BatchNormalization())\n",
    "\n",
    "\n",
    "model7.add(Dense(900))\n",
    "model7.add(Activation('relu'))\n",
    "model7.add(Dropout(0.2))\n",
    "\n",
    "model7.add(BatchNormalization())\n",
    "\n",
    "model7.add(Dense(500))\n",
    "model7.add(Activation('relu'))\n",
    "model7.add(Dropout(0.25))\n",
    "\n",
    "model7.add(BatchNormalization())\n",
    "\n",
    "\n",
    "model7.add(Dense(500))\n",
    "model7.add(Activation('relu'))\n",
    "model7.add(Dropout(0.2))\n",
    "\n",
    "model7.add(BatchNormalization())\n",
    "\n",
    "model7.add(Dense(500))\n",
    "model7.add(Activation('relu'))\n",
    "model7.add(Dropout(0.2))\n",
    "\n",
    "model7.add(BatchNormalization())\n",
    "\n",
    "model7.add(Dense(500))\n",
    "model7.add(Activation('relu'))\n",
    "model7.add(Dropout(0.2))\n",
    "\n",
    "model7.add(BatchNormalization())\n",
    "\n",
    "model7.add(Dense(500))\n",
    "model7.add(Activation('relu'))\n",
    "model7.add(Dropout(0.25))\n",
    "\n",
    "model7.add(BatchNormalization())\n",
    "\n",
    "\n",
    "model7.add(Dense(500))\n",
    "model7.add(Activation('relu'))\n",
    "model7.add(Dropout(0.2))\n",
    "\n",
    "model7.add(BatchNormalization())\n",
    "\n",
    "model7.add(Dense(100))\n",
    "model7.add(Activation('relu'))\n",
    "model7.add(Dropout(0.2))\n",
    "\n",
    "model7.add(BatchNormalization())\n",
    "\n",
    "model7.add(Dense(50))\n",
    "model7.add(Activation('relu'))\n",
    "model7.add(Dropout(0.1))\n",
    "\n",
    "model7.add(BatchNormalization())\n",
    "\n",
    "model7.add(Dense(25))\n",
    "model7.add(Activation('relu'))\n",
    "model7.add(Dropout(0.1))\n",
    "\n",
    "model7.add(Dense(7))\n",
    "model7.add(Activation('softmax'))\n",
    "\n",
    "model7.compile(loss='categorical_crossentropy', metrics=['accuracy'],optimizer='adam')"
   ]
  },
  {
   "cell_type": "code",
   "execution_count": null,
   "metadata": {
    "colab": {
     "base_uri": "https://localhost:8080/"
    },
    "id": "3huCegmx0H1z",
    "outputId": "1ee3ae55-36ac-4cab-d8ba-f942ca3dde14"
   },
   "outputs": [],
   "source": [
    "model7.fit(X_train,y_train,epochs=15,validation_data=(X_test,y_test))\n"
   ]
  },
  {
   "cell_type": "code",
   "execution_count": null,
   "metadata": {
    "colab": {
     "base_uri": "https://localhost:8080/",
     "height": 1000
    },
    "id": "XIj01zY70H12",
    "outputId": "feb6f32b-ea7d-4241-aeff-b9a475963c09"
   },
   "outputs": [],
   "source": [
    "model7.save_weights('model7')\n",
    "# model7.load_weights('model7')\n",
    "\n",
    "model_eval(model7,X_test,y_test,label_map,visx,visy)\n"
   ]
  },
  {
   "cell_type": "code",
   "execution_count": null,
   "metadata": {
    "id": "DdnaBDs70bjK"
   },
   "outputs": [],
   "source": [
    "model8 = Sequential()\n",
    "input_shape = (48,48,1)\n",
    "model8.add(Conv2D(128, (5, 5), input_shape=input_shape,activation='relu', padding='same'))\n",
    "model8.add(Conv2D(128, (5, 5), input_shape=input_shape,activation='relu', padding='same'))\n",
    "model8.add(Conv2D(128, (5, 5), input_shape=input_shape,activation='relu', padding='same'))\n",
    "\n",
    "model8.add(MaxPooling2D(pool_size=(2, 2)))\n",
    "\n",
    "model8.add(Conv2D(256, (5, 5),activation='relu',padding='same'))\n",
    "model8.add(Conv2D(256, (3, 3),activation='relu',padding='same'))\n",
    "\n",
    "model8.add(MaxPooling2D(pool_size=(2, 2)))\n",
    "\n",
    "model8.add(Conv2D(1024, (3, 3),activation='relu',padding='same'))\n",
    "model8.add(BatchNormalization())\n",
    "model8.add(MaxPooling2D(pool_size=(2, 2)))\n",
    "\n",
    "model8.add(Flatten())\n",
    "model8.add(BatchNormalization())\n",
    "\n",
    "\n",
    "model8.add(Dense(999))\n",
    "model8.add(Activation('relu'))\n",
    "model8.add(Dropout(0.3))\n",
    "model8.add(BatchNormalization())\n",
    "\n",
    "model8.add(Dense(750))\n",
    "model8.add(Activation('relu'))\n",
    "model8.add(Dropout(0.3))\n",
    "\n",
    "model8.add(BatchNormalization())\n",
    "\n",
    "\n",
    "model8.add(Dense(500))\n",
    "model8.add(Activation('relu'))\n",
    "model8.add(Dropout(0.2))\n",
    "\n",
    "model8.add(BatchNormalization())\n",
    "\n",
    "model8.add(Dense(100))\n",
    "model8.add(Activation('relu'))\n",
    "model8.add(Dropout(0.2))\n",
    "\n",
    "model8.add(BatchNormalization())\n",
    "\n",
    "model8.add(Dense(25))\n",
    "model8.add(Activation('relu'))\n",
    "model8.add(Dropout(0.1))\n",
    "\n",
    "model8.add(Dense(7))\n",
    "model8.add(Activation('softmax'))\n",
    "\n",
    "model8.compile(loss='categorical_crossentropy', metrics=['accuracy'],optimizer='adam')"
   ]
  },
  {
   "cell_type": "code",
   "execution_count": null,
   "metadata": {
    "colab": {
     "base_uri": "https://localhost:8080/"
    },
    "id": "GMQ4HLhPE8Re",
    "outputId": "4cc320ae-0e77-46d4-b3b2-0098c8bad2b6"
   },
   "outputs": [],
   "source": [
    "model8.fit(X_train,y_train,epochs=15,validation_data=(X_test,y_test))\n"
   ]
  },
  {
   "cell_type": "code",
   "execution_count": 2,
   "metadata": {
    "colab": {
     "base_uri": "https://localhost:8080/",
     "height": 1000
    },
    "id": "iznm8h7XFBSa",
    "outputId": "fc6b172a-dfe7-4402-8bad-62d00f2ac403"
   },
   "outputs": [
    {
     "ename": "NameError",
     "evalue": "name 'model8' is not defined",
     "output_type": "error",
     "traceback": [
      "\u001b[0;31m---------------------------------------------------------------------------\u001b[0m",
      "\u001b[0;31mNameError\u001b[0m                                 Traceback (most recent call last)",
      "\u001b[0;32m<ipython-input-2-00a177aa8506>\u001b[0m in \u001b[0;36m<module>\u001b[0;34m\u001b[0m\n\u001b[1;32m      1\u001b[0m \u001b[0;31m# model8.save_weights('model8')\u001b[0m\u001b[0;34m\u001b[0m\u001b[0;34m\u001b[0m\u001b[0;34m\u001b[0m\u001b[0m\n\u001b[0;32m----> 2\u001b[0;31m \u001b[0mmodel8\u001b[0m\u001b[0;34m.\u001b[0m\u001b[0mload_weights\u001b[0m\u001b[0;34m(\u001b[0m\u001b[0;34m'model8'\u001b[0m\u001b[0;34m)\u001b[0m\u001b[0;34m\u001b[0m\u001b[0;34m\u001b[0m\u001b[0m\n\u001b[0m\u001b[1;32m      3\u001b[0m \u001b[0;34m\u001b[0m\u001b[0m\n\u001b[1;32m      4\u001b[0m \u001b[0mmodel_eval\u001b[0m\u001b[0;34m(\u001b[0m\u001b[0mmodel8\u001b[0m\u001b[0;34m,\u001b[0m\u001b[0mX_test\u001b[0m\u001b[0;34m,\u001b[0m\u001b[0my_test\u001b[0m\u001b[0;34m,\u001b[0m\u001b[0mlabel_map\u001b[0m\u001b[0;34m,\u001b[0m\u001b[0mvisx\u001b[0m\u001b[0;34m,\u001b[0m\u001b[0mvisy\u001b[0m\u001b[0;34m)\u001b[0m\u001b[0;34m\u001b[0m\u001b[0;34m\u001b[0m\u001b[0m\n",
      "\u001b[0;31mNameError\u001b[0m: name 'model8' is not defined"
     ]
    }
   ],
   "source": [
    "# model8.save_weights('model8')\n",
    "model8.load_weights('model8')\n",
    "\n",
    "model_eval(model8,X_test,y_test,label_map,visx,visy)\n"
   ]
  },
  {
   "cell_type": "code",
   "execution_count": null,
   "metadata": {
    "id": "41BuuyGIGLsV"
   },
   "outputs": [],
   "source": [
    "\n",
    "final_model = Sequential()\n",
    "final_model = Sequential()\n",
    "input_shape = (48,48,1)\n",
    "final_model.add(Conv2D(256, (2, 2), input_shape=input_shape,activation='relu', padding='same'))\n",
    "final_model.add(BatchNormalization())\n",
    "final_model.add(Dropout(0.2))\n",
    "\n",
    "final_model.add(Conv2D(256, (2, 2), input_shape=input_shape,activation='relu', padding='same'))\n",
    "final_model.add(BatchNormalization())\n",
    "final_model.add(Dropout(0.2))\n",
    "\n",
    "final_model.add(Conv2D(256, (5, 5), input_shape=input_shape,activation='relu', padding='same'))\n",
    "final_model.add(Dropout(0.2))\n",
    "\n",
    "final_model.add(BatchNormalization())\n",
    "final_model.add(MaxPooling2D(pool_size=(2, 2)))\n",
    "\n",
    "final_model.add(Conv2D(512, (2, 2),activation='relu',padding='same'))\n",
    "final_model.add(Dropout(0.2))\n",
    "\n",
    "final_model.add(BatchNormalization())\n",
    "\n",
    "final_model.add(Conv2D(512, (4, 4),activation='relu',padding='same'))\n",
    "final_model.add(Dropout(0.2))\n",
    "\n",
    "final_model.add(BatchNormalization())\n",
    "\n",
    "final_model.add(Conv2D(512, (2, 2),activation='relu',padding='same'))\n",
    "final_model.add(Dropout(0.2))\n",
    "\n",
    "\n",
    "final_model.add(BatchNormalization())\n",
    "final_model.add(MaxPooling2D(pool_size=(2, 2)))\n",
    "\n",
    "\n",
    "final_model.add(Flatten())\n",
    "final_model.add(Dense(750))\n",
    "final_model.add(Activation('relu'))\n",
    "final_model.add(Dropout(0.3))\n",
    "\n",
    "final_model.add(Dense(750))\n",
    "final_model.add(Activation('relu'))\n",
    "final_model.add(Dropout(0.3))\n",
    "\n",
    "final_model.add(Dense(750))\n",
    "final_model.add(Activation('relu'))\n",
    "final_model.add(Dropout(0.3))\n",
    "\n",
    "final_model.add(Activation('relu'))\n",
    "final_model.add(Dense(250))\n",
    "final_model.add(Dropout(0.2))\n",
    "\n",
    "final_model.add(BatchNormalization())\n",
    "final_model.add(Activation('relu'))\n",
    "final_model.add(Dense(64))\n",
    "final_model.add(Activation('relu'))\n",
    "final_model.add(Dense(7))\n",
    "final_model.add(Activation('softmax'))\n",
    "\n",
    "final_model.compile(loss='categorical_crossentropy', metrics=['accuracy'],optimizer='adam')\n",
    "\n",
    "\n"
   ]
  },
  {
   "cell_type": "code",
   "execution_count": null,
   "metadata": {
    "id": "K92jcfR6IkEF"
   },
   "outputs": [],
   "source": [
    "final_model.fit(X,Y,epochs=20,batch_size=100)\n"
   ]
  },
  {
   "cell_type": "code",
   "execution_count": null,
   "metadata": {
    "colab": {
     "base_uri": "https://localhost:8080/",
     "height": 1000
    },
    "id": "JAgKjzXlJTyk",
    "outputId": "17129b36-5a7d-4d8b-fe99-c14bc8da2e21"
   },
   "outputs": [],
   "source": [
    "final_model.save_weights('FinalModel')\n",
    "model_eval(final_model,X_test,y_test,label_map,visx,visy)\n"
   ]
  },
  {
   "cell_type": "code",
   "execution_count": null,
   "metadata": {
    "id": "IYoc2Nov7G1W"
   },
   "outputs": [],
   "source": []
  },
  {
   "cell_type": "code",
   "execution_count": null,
   "metadata": {
    "id": "5VtPWy8mJxsZ"
   },
   "outputs": [],
   "source": [
    "#test it on a picture and use visualiztaions to see what the model sees\n",
    "#explain the problem with testing it on your self\n",
    "#bring in haar cascade classifier\n",
    "#show the haar cascade classifier finding your face and multiple faces\n",
    "#use the cascade classifier to predict on your face\n",
    "#use both to predict on you face and show the visualizations\n",
    "#talk about context and body language\n",
    "#bring in and demonstrate pose estimator\n",
    "#show video of your program predicting in realtime\n",
    "#discuss failures and next steps"
   ]
  }
 ],
 "metadata": {
  "accelerator": "GPU",
  "colab": {
   "collapsed_sections": [],
   "machine_shape": "hm",
   "name": "Modeling.ipynb",
   "provenance": []
  },
  "kernelspec": {
   "display_name": "Python 3",
   "language": "python",
   "name": "python3"
  },
  "language_info": {
   "codemirror_mode": {
    "name": "ipython",
    "version": 3
   },
   "file_extension": ".py",
   "mimetype": "text/x-python",
   "name": "python",
   "nbconvert_exporter": "python",
   "pygments_lexer": "ipython3",
   "version": "3.8.3"
  }
 },
 "nbformat": 4,
 "nbformat_minor": 1
}
