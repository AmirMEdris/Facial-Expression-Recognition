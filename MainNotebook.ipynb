{
 "cells": [
  {
   "cell_type": "code",
   "execution_count": 91,
   "metadata": {},
   "outputs": [],
   "source": [
    "from Functions import *\n",
    "import pyautogui \n",
    "import matplotlib.pyplot as plt\n",
    "import itertools"
   ]
  },
  {
   "cell_type": "code",
   "execution_count": 2,
   "metadata": {
    "_uuid": "87965c894d3b7f3b3dfc66d8c2a60efcc08a370d"
   },
   "outputs": [],
   "source": [
    "# get the data\n",
    "filname = 'fer2013.csv'\n",
    "label_map = ['Anger', 'Disgust', 'Fear', 'Happy', 'Sad', 'Surprise', 'Neutral']\n",
    "names=['emotion','pixels','usage']\n",
    "df=pd.read_csv('fer2013.csv',names=names)\n",
    "im=df['pixels']\n",
    "df.head(10)\n",
    "imbalancedf = df[df['emotion']!='emotion']\n",
    "im=imbalancedf.emotion.apply(lambda x: ['Anger', 'Disgust', 'Fear', 'Happy', 'Sad', 'Surprise', 'Neutral'][int(x)])\n",
    "labeleddf = pd.DataFrame()\n",
    "labeleddf['pixels']=df['pixels']\n",
    "\n",
    "\n"
   ]
  },
  {
   "cell_type": "code",
   "execution_count": 3,
   "metadata": {},
   "outputs": [],
   "source": [
    "labeleddf['emotion'] = im"
   ]
  },
  {
   "cell_type": "code",
   "execution_count": 5,
   "metadata": {},
   "outputs": [],
   "source": [
    "labeleddf = labeleddf.iloc[1:]"
   ]
  },
  {
   "cell_type": "code",
   "execution_count": 131,
   "metadata": {},
   "outputs": [
    {
     "data": {
      "text/html": [
       "<div>\n",
       "<style scoped>\n",
       "    .dataframe tbody tr th:only-of-type {\n",
       "        vertical-align: middle;\n",
       "    }\n",
       "\n",
       "    .dataframe tbody tr th {\n",
       "        vertical-align: top;\n",
       "    }\n",
       "\n",
       "    .dataframe thead th {\n",
       "        text-align: right;\n",
       "    }\n",
       "</style>\n",
       "<table border=\"1\" class=\"dataframe\">\n",
       "  <thead>\n",
       "    <tr style=\"text-align: right;\">\n",
       "      <th></th>\n",
       "      <th>pixels</th>\n",
       "      <th>emotion</th>\n",
       "    </tr>\n",
       "  </thead>\n",
       "  <tbody>\n",
       "    <tr>\n",
       "      <th>1</th>\n",
       "      <td>70 80 82 72 58 58 60 63 54 58 60 48 89 115 121...</td>\n",
       "      <td>Anger</td>\n",
       "    </tr>\n",
       "    <tr>\n",
       "      <th>2</th>\n",
       "      <td>151 150 147 155 148 133 111 140 170 174 182 15...</td>\n",
       "      <td>Anger</td>\n",
       "    </tr>\n",
       "    <tr>\n",
       "      <th>3</th>\n",
       "      <td>231 212 156 164 174 138 161 173 182 200 106 38...</td>\n",
       "      <td>Fear</td>\n",
       "    </tr>\n",
       "    <tr>\n",
       "      <th>4</th>\n",
       "      <td>24 32 36 30 32 23 19 20 30 41 21 22 32 34 21 1...</td>\n",
       "      <td>Sad</td>\n",
       "    </tr>\n",
       "    <tr>\n",
       "      <th>5</th>\n",
       "      <td>4 0 0 0 0 0 0 0 0 0 0 0 3 15 23 28 48 50 58 84...</td>\n",
       "      <td>Neutral</td>\n",
       "    </tr>\n",
       "    <tr>\n",
       "      <th>6</th>\n",
       "      <td>55 55 55 55 55 54 60 68 54 85 151 163 170 179 ...</td>\n",
       "      <td>Fear</td>\n",
       "    </tr>\n",
       "    <tr>\n",
       "      <th>7</th>\n",
       "      <td>20 17 19 21 25 38 42 42 46 54 56 62 63 66 82 1...</td>\n",
       "      <td>Sad</td>\n",
       "    </tr>\n",
       "    <tr>\n",
       "      <th>8</th>\n",
       "      <td>77 78 79 79 78 75 60 55 47 48 58 73 77 79 57 5...</td>\n",
       "      <td>Happy</td>\n",
       "    </tr>\n",
       "    <tr>\n",
       "      <th>9</th>\n",
       "      <td>85 84 90 121 101 102 133 153 153 169 177 189 1...</td>\n",
       "      <td>Happy</td>\n",
       "    </tr>\n",
       "    <tr>\n",
       "      <th>10</th>\n",
       "      <td>255 254 255 254 254 179 122 107 95 124 149 150...</td>\n",
       "      <td>Fear</td>\n",
       "    </tr>\n",
       "    <tr>\n",
       "      <th>11</th>\n",
       "      <td>30 24 21 23 25 25 49 67 84 103 120 125 130 139...</td>\n",
       "      <td>Anger</td>\n",
       "    </tr>\n",
       "    <tr>\n",
       "      <th>12</th>\n",
       "      <td>39 75 78 58 58 45 49 48 103 156 81 45 41 38 49...</td>\n",
       "      <td>Neutral</td>\n",
       "    </tr>\n",
       "    <tr>\n",
       "      <th>13</th>\n",
       "      <td>219 213 206 202 209 217 216 215 219 218 223 23...</td>\n",
       "      <td>Neutral</td>\n",
       "    </tr>\n",
       "    <tr>\n",
       "      <th>14</th>\n",
       "      <td>148 144 130 129 119 122 129 131 139 153 140 12...</td>\n",
       "      <td>Neutral</td>\n",
       "    </tr>\n",
       "    <tr>\n",
       "      <th>15</th>\n",
       "      <td>4 2 13 41 56 62 67 87 95 62 65 70 80 107 127 1...</td>\n",
       "      <td>Happy</td>\n",
       "    </tr>\n",
       "  </tbody>\n",
       "</table>\n",
       "</div>"
      ],
      "text/plain": [
       "                                               pixels  emotion\n",
       "1   70 80 82 72 58 58 60 63 54 58 60 48 89 115 121...    Anger\n",
       "2   151 150 147 155 148 133 111 140 170 174 182 15...    Anger\n",
       "3   231 212 156 164 174 138 161 173 182 200 106 38...     Fear\n",
       "4   24 32 36 30 32 23 19 20 30 41 21 22 32 34 21 1...      Sad\n",
       "5   4 0 0 0 0 0 0 0 0 0 0 0 3 15 23 28 48 50 58 84...  Neutral\n",
       "6   55 55 55 55 55 54 60 68 54 85 151 163 170 179 ...     Fear\n",
       "7   20 17 19 21 25 38 42 42 46 54 56 62 63 66 82 1...      Sad\n",
       "8   77 78 79 79 78 75 60 55 47 48 58 73 77 79 57 5...    Happy\n",
       "9   85 84 90 121 101 102 133 153 153 169 177 189 1...    Happy\n",
       "10  255 254 255 254 254 179 122 107 95 124 149 150...     Fear\n",
       "11  30 24 21 23 25 25 49 67 84 103 120 125 130 139...    Anger\n",
       "12  39 75 78 58 58 45 49 48 103 156 81 45 41 38 49...  Neutral\n",
       "13  219 213 206 202 209 217 216 215 219 218 223 23...  Neutral\n",
       "14  148 144 130 129 119 122 129 131 139 153 140 12...  Neutral\n",
       "15  4 2 13 41 56 62 67 87 95 62 65 70 80 107 127 1...    Happy"
      ]
     },
     "execution_count": 131,
     "metadata": {},
     "output_type": "execute_result"
    }
   ],
   "source": [
    "labeleddf.head(15)"
   ]
  },
  {
   "cell_type": "code",
   "execution_count": 10,
   "metadata": {},
   "outputs": [],
   "source": [
    "def picfromdf(df,index):\n",
    "    arr = df['pixels'].iloc[index]\n",
    "    arr = arr.split(' ')\n",
    "    ans = []\n",
    "    for i in arr:\n",
    "        ans.append(int(i))\n",
    "    plt.matshow(np.array(ans).reshape(48,48),cmap='gray')\n",
    "    plt.title(df['emotion'].iloc[index])\n",
    "    return np.array(ans).reshape(48,48)\n",
    "def genpicdict(df):\n",
    "    picdict = {}\n",
    "    for i in ['Anger', 'Disgust', 'Fear', 'Happy', 'Sad', 'Surprise', 'Neutral']:\n",
    "        if i not in picdict:\n",
    "            picdict[i] = picfromdf(df[df['emotion'] == i],1)\n",
    "    return picdict\n",
    "def modelpredictonpicdict(picdict,model):\n",
    "    picpixels = []\n",
    "    for i in picdict.keys():\n",
    "        picpixels.append(picdict[i])\n",
    "    picpixels = np.array(picpixels)\n",
    "    picpixels = picpixels.reshape(len(picdict.keys()),48,48,1)\n",
    "    predictions = model.predict(picpixels)\n",
    "    ans = []\n",
    "    for a in predictions:\n",
    "        ans.append(['Anger', 'Disgust', 'Fear', 'Happy', 'Sad', 'Surprise', 'Neutral'][int(a.argmax())])\n",
    "    print(ans)\n",
    "def makeexplanaitionmodel(model):\n",
    "    layer_outputs = [layer.output for layer in model.layers[:9]] \n",
    "# Extracts the outputs of the top 12 layers\n",
    "    activation_model = tf.keras.Model(inputs=model.input, outputs=layer_outputs)\n",
    "    return activation_model\n",
    "def explanationpic(picdict):\n",
    "    picpixels = []\n",
    "    picid = []\n",
    "    origpic = []\n",
    "    for i in picdict.keys():\n",
    "        origpic.append(picdict[i])\n",
    "        picid.append(i)\n",
    "        picpixels.append(picdict[i])\n",
    "    picpixels = np.array(picpixels)\n",
    "    picpixels = picpixels.reshape(len(picdict.keys()),48,48,1)\n",
    "    predictions = emodel.predict(picpixels)\n",
    "    print(predictions.shape)\n",
    "#     for i in predictions[0]:\n",
    "#         plt.matshow(i.reshape(-1,9,48,48,1),cmap='gray')\n",
    "#         plt.title(i)\n",
    "    return picid,origpic,predictions"
   ]
  },
  {
   "cell_type": "code",
   "execution_count": 6,
   "metadata": {},
   "outputs": [
    {
     "data": {
      "image/png": "[encoded data removed]",
      "text/plain": [
       "<Figure size 288x288 with 1 Axes>"
      ]
     },
     "metadata": {
      "needs_background": "light"
     },
     "output_type": "display_data"
    },
    {
     "data": {
      "image/png": "[encoded data removed]",
      "text/plain": [
       "<Figure size 288x288 with 1 Axes>"
      ]
     },
     "metadata": {
      "needs_background": "light"
     },
     "output_type": "display_data"
    },
    {
     "data": {
      "image/png": "[encoded data removed]",
      "text/plain": [
       "<Figure size 288x288 with 1 Axes>"
      ]
     },
     "metadata": {
      "needs_background": "light"
     },
     "output_type": "display_data"
    },
    {
     "data": {
      "image/png": "[encoded data removed]",
      "text/plain": [
       "<Figure size 288x288 with 1 Axes>"
      ]
     },
     "metadata": {
      "needs_background": "light"
     },
     "output_type": "display_data"
    },
    {
     "data": {
      "image/png": "[encoded data removed]",
      "text/plain": [
       "<Figure size 288x288 with 1 Axes>"
      ]
     },
     "metadata": {
      "needs_background": "light"
     },
     "output_type": "display_data"
    },
    {
     "data": {
      "image/png": "[encoded data removed]",
      "text/plain": [
       "<Figure size 288x288 with 1 Axes>"
      ]
     },
     "metadata": {
      "needs_background": "light"
     },
     "output_type": "display_data"
    },
    {
     "data": {
      "image/png": "[encoded data removed]",
      "text/plain": [
       "<Figure size 288x288 with 1 Axes>"
      ]
     },
     "metadata": {
      "needs_background": "light"
     },
     "output_type": "display_data"
    }
   ],
   "source": [
    "picdict = genpicdict(labeleddf)"
   ]
  },
  {
   "cell_type": "code",
   "execution_count": 9,
   "metadata": {},
   "outputs": [
    {
     "name": "stdout",
     "output_type": "stream",
     "text": [
      "['Fear', 'Disgust', 'Neutral', 'Neutral', 'Surprise', 'Surprise', 'Neutral']\n"
     ]
    }
   ],
   "source": [
    "modelpredictonpicdict(picdict,model)\n"
   ]
  },
  {
   "cell_type": "code",
   "execution_count": 53,
   "metadata": {},
   "outputs": [
    {
     "ename": "ValueError",
     "evalue": "could not broadcast input array from shape (48,48,64) into shape (1)",
     "output_type": "error",
     "traceback": [
      "\u001b[0;31m---------------------------------------------------------------------------\u001b[0m",
      "\u001b[0;31mValueError\u001b[0m                                Traceback (most recent call last)",
      "\u001b[0;32m<ipython-input-53-68dc5dd2b0ba>\u001b[0m in \u001b[0;36m<module>\u001b[0;34m\u001b[0m\n\u001b[1;32m      1\u001b[0m \u001b[0;32mfor\u001b[0m \u001b[0mi\u001b[0m \u001b[0;32min\u001b[0m \u001b[0mpicdict\u001b[0m\u001b[0;34m.\u001b[0m\u001b[0mkeys\u001b[0m\u001b[0;34m(\u001b[0m\u001b[0;34m)\u001b[0m\u001b[0;34m:\u001b[0m\u001b[0;34m\u001b[0m\u001b[0;34m\u001b[0m\u001b[0m\n\u001b[0;32m----> 2\u001b[0;31m     \u001b[0mplt\u001b[0m\u001b[0;34m.\u001b[0m\u001b[0mmatshow\u001b[0m\u001b[0;34m(\u001b[0m\u001b[0memodel\u001b[0m\u001b[0;34m.\u001b[0m\u001b[0mpredict\u001b[0m\u001b[0;34m(\u001b[0m\u001b[0mpicdict\u001b[0m\u001b[0;34m[\u001b[0m\u001b[0mi\u001b[0m\u001b[0;34m]\u001b[0m\u001b[0;34m.\u001b[0m\u001b[0mreshape\u001b[0m\u001b[0;34m(\u001b[0m\u001b[0;36m1\u001b[0m\u001b[0;34m,\u001b[0m\u001b[0;36m48\u001b[0m\u001b[0;34m,\u001b[0m\u001b[0;36m48\u001b[0m\u001b[0;34m,\u001b[0m\u001b[0;36m1\u001b[0m\u001b[0;34m)\u001b[0m\u001b[0;34m)\u001b[0m\u001b[0;34m,\u001b[0m\u001b[0mcmap\u001b[0m\u001b[0;34m=\u001b[0m\u001b[0;34m'gray'\u001b[0m\u001b[0;34m)\u001b[0m\u001b[0;34m\u001b[0m\u001b[0;34m\u001b[0m\u001b[0m\n\u001b[0m\u001b[1;32m      3\u001b[0m     \u001b[0mplt\u001b[0m\u001b[0;34m.\u001b[0m\u001b[0mtitle\u001b[0m\u001b[0;34m(\u001b[0m\u001b[0mi\u001b[0m\u001b[0;34m)\u001b[0m\u001b[0;34m\u001b[0m\u001b[0;34m\u001b[0m\u001b[0m\n",
      "\u001b[0;32m/opt/anaconda3/lib/python3.8/site-packages/matplotlib/pyplot.py\u001b[0m in \u001b[0;36mmatshow\u001b[0;34m(A, fignum, **kwargs)\u001b[0m\n\u001b[1;32m   2106\u001b[0m \u001b[0;34m\u001b[0m\u001b[0m\n\u001b[1;32m   2107\u001b[0m     \"\"\"\n\u001b[0;32m-> 2108\u001b[0;31m     \u001b[0mA\u001b[0m \u001b[0;34m=\u001b[0m \u001b[0mnp\u001b[0m\u001b[0;34m.\u001b[0m\u001b[0masanyarray\u001b[0m\u001b[0;34m(\u001b[0m\u001b[0mA\u001b[0m\u001b[0;34m)\u001b[0m\u001b[0;34m\u001b[0m\u001b[0;34m\u001b[0m\u001b[0m\n\u001b[0m\u001b[1;32m   2109\u001b[0m     \u001b[0;32mif\u001b[0m \u001b[0mfignum\u001b[0m \u001b[0;34m==\u001b[0m \u001b[0;36m0\u001b[0m\u001b[0;34m:\u001b[0m\u001b[0;34m\u001b[0m\u001b[0;34m\u001b[0m\u001b[0m\n\u001b[1;32m   2110\u001b[0m         \u001b[0max\u001b[0m \u001b[0;34m=\u001b[0m \u001b[0mgca\u001b[0m\u001b[0;34m(\u001b[0m\u001b[0;34m)\u001b[0m\u001b[0;34m\u001b[0m\u001b[0;34m\u001b[0m\u001b[0m\n",
      "\u001b[0;32m/opt/anaconda3/lib/python3.8/site-packages/numpy/core/_asarray.py\u001b[0m in \u001b[0;36masanyarray\u001b[0;34m(a, dtype, order)\u001b[0m\n\u001b[1;32m    136\u001b[0m \u001b[0;34m\u001b[0m\u001b[0m\n\u001b[1;32m    137\u001b[0m     \"\"\"\n\u001b[0;32m--> 138\u001b[0;31m     \u001b[0;32mreturn\u001b[0m \u001b[0marray\u001b[0m\u001b[0;34m(\u001b[0m\u001b[0ma\u001b[0m\u001b[0;34m,\u001b[0m \u001b[0mdtype\u001b[0m\u001b[0;34m,\u001b[0m \u001b[0mcopy\u001b[0m\u001b[0;34m=\u001b[0m\u001b[0;32mFalse\u001b[0m\u001b[0;34m,\u001b[0m \u001b[0morder\u001b[0m\u001b[0;34m=\u001b[0m\u001b[0morder\u001b[0m\u001b[0;34m,\u001b[0m \u001b[0msubok\u001b[0m\u001b[0;34m=\u001b[0m\u001b[0;32mTrue\u001b[0m\u001b[0;34m)\u001b[0m\u001b[0;34m\u001b[0m\u001b[0;34m\u001b[0m\u001b[0m\n\u001b[0m\u001b[1;32m    139\u001b[0m \u001b[0;34m\u001b[0m\u001b[0m\n\u001b[1;32m    140\u001b[0m \u001b[0;34m\u001b[0m\u001b[0m\n",
      "\u001b[0;31mValueError\u001b[0m: could not broadcast input array from shape (48,48,64) into shape (1)"
     ]
    }
   ],
   "source": [
    "\n",
    "for i in picdict.keys():\n",
    "    plt.matshow(emodel.predict(picdict[i].reshape(1,48,48,1)),cmap='gray')\n",
    "    plt.title(i)"
   ]
  },
  {
   "cell_type": "code",
   "execution_count": 13,
   "metadata": {},
   "outputs": [
    {
     "ename": "AttributeError",
     "evalue": "'list' object has no attribute 'shape'",
     "output_type": "error",
     "traceback": [
      "\u001b[0;31m---------------------------------------------------------------------------\u001b[0m",
      "\u001b[0;31mAttributeError\u001b[0m                            Traceback (most recent call last)",
      "\u001b[0;32m<ipython-input-13-714affdc27a5>\u001b[0m in \u001b[0;36m<module>\u001b[0;34m\u001b[0m\n\u001b[1;32m      1\u001b[0m \u001b[0;31m# for x in range(64):\u001b[0m\u001b[0;34m\u001b[0m\u001b[0;34m\u001b[0m\u001b[0;34m\u001b[0m\u001b[0m\n\u001b[0;32m----> 2\u001b[0;31m \u001b[0mids\u001b[0m\u001b[0;34m,\u001b[0m\u001b[0moriginals\u001b[0m\u001b[0;34m,\u001b[0m\u001b[0mpreds\u001b[0m \u001b[0;34m=\u001b[0m \u001b[0mexplanationpic\u001b[0m\u001b[0;34m(\u001b[0m\u001b[0mpicdict\u001b[0m\u001b[0;34m)\u001b[0m\u001b[0;34m\u001b[0m\u001b[0;34m\u001b[0m\u001b[0m\n\u001b[0m\u001b[1;32m      3\u001b[0m \u001b[0;31m# plt.matshow(explanationpic(picdict)[1][4,:,:,0],cmap='gray')\u001b[0m\u001b[0;34m\u001b[0m\u001b[0;34m\u001b[0m\u001b[0;34m\u001b[0m\u001b[0m\n\u001b[1;32m      4\u001b[0m \u001b[0;32mfor\u001b[0m \u001b[0mpicnum\u001b[0m \u001b[0;32min\u001b[0m \u001b[0mrange\u001b[0m\u001b[0;34m(\u001b[0m\u001b[0;36m3\u001b[0m\u001b[0;34m)\u001b[0m\u001b[0;34m:\u001b[0m\u001b[0;34m\u001b[0m\u001b[0;34m\u001b[0m\u001b[0m\n\u001b[1;32m      5\u001b[0m     \u001b[0mplt\u001b[0m\u001b[0;34m.\u001b[0m\u001b[0mmatshow\u001b[0m\u001b[0;34m(\u001b[0m\u001b[0moriginals\u001b[0m\u001b[0;34m[\u001b[0m\u001b[0mpicnum\u001b[0m\u001b[0;34m]\u001b[0m\u001b[0;34m,\u001b[0m\u001b[0mcmap\u001b[0m\u001b[0;34m=\u001b[0m\u001b[0;34m'gray'\u001b[0m\u001b[0;34m)\u001b[0m\u001b[0;34m\u001b[0m\u001b[0;34m\u001b[0m\u001b[0m\n",
      "\u001b[0;32m<ipython-input-10-2f0f89e58ae5>\u001b[0m in \u001b[0;36mexplanationpic\u001b[0;34m(picdict)\u001b[0m\n\u001b[1;32m     41\u001b[0m     \u001b[0mpicpixels\u001b[0m \u001b[0;34m=\u001b[0m \u001b[0mpicpixels\u001b[0m\u001b[0;34m.\u001b[0m\u001b[0mreshape\u001b[0m\u001b[0;34m(\u001b[0m\u001b[0mlen\u001b[0m\u001b[0;34m(\u001b[0m\u001b[0mpicdict\u001b[0m\u001b[0;34m.\u001b[0m\u001b[0mkeys\u001b[0m\u001b[0;34m(\u001b[0m\u001b[0;34m)\u001b[0m\u001b[0;34m)\u001b[0m\u001b[0;34m,\u001b[0m\u001b[0;36m48\u001b[0m\u001b[0;34m,\u001b[0m\u001b[0;36m48\u001b[0m\u001b[0;34m,\u001b[0m\u001b[0;36m1\u001b[0m\u001b[0;34m)\u001b[0m\u001b[0;34m\u001b[0m\u001b[0;34m\u001b[0m\u001b[0m\n\u001b[1;32m     42\u001b[0m     \u001b[0mpredictions\u001b[0m \u001b[0;34m=\u001b[0m \u001b[0memodel\u001b[0m\u001b[0;34m.\u001b[0m\u001b[0mpredict\u001b[0m\u001b[0;34m(\u001b[0m\u001b[0mpicpixels\u001b[0m\u001b[0;34m)\u001b[0m\u001b[0;34m\u001b[0m\u001b[0;34m\u001b[0m\u001b[0m\n\u001b[0;32m---> 43\u001b[0;31m     \u001b[0mprint\u001b[0m\u001b[0;34m(\u001b[0m\u001b[0mpredictions\u001b[0m\u001b[0;34m.\u001b[0m\u001b[0mshape\u001b[0m\u001b[0;34m)\u001b[0m\u001b[0;34m\u001b[0m\u001b[0;34m\u001b[0m\u001b[0m\n\u001b[0m\u001b[1;32m     44\u001b[0m \u001b[0;31m#     for i in predictions[0]:\u001b[0m\u001b[0;34m\u001b[0m\u001b[0;34m\u001b[0m\u001b[0;34m\u001b[0m\u001b[0m\n\u001b[1;32m     45\u001b[0m \u001b[0;31m#         plt.matshow(i.reshape(-1,9,48,48,1),cmap='gray')\u001b[0m\u001b[0;34m\u001b[0m\u001b[0;34m\u001b[0m\u001b[0;34m\u001b[0m\u001b[0m\n",
      "\u001b[0;31mAttributeError\u001b[0m: 'list' object has no attribute 'shape'"
     ]
    }
   ],
   "source": [
    "# for x in range(64):\n",
    "ids,originals,preds = explanationpic(picdict)\n",
    "# plt.matshow(explanationpic(picdict)[1][4,:,:,0],cmap='gray')\n",
    "for picnum in range(3):\n",
    "    plt.matshow(originals[picnum],cmap='gray')\n",
    "    plt.title(ids[picnum])\n",
    "    for layer in range(5):\n",
    "        for fil in range(len(preds[layer][picnum,1,1,:])):\n",
    "            plt.matshow(preds[layer][picnum,:,:,fil],cmap='gray')\n",
    "            plt.title(f'pic:{picnum},layer:{layer},filnum{fil}')"
   ]
  },
  {
   "cell_type": "code",
   "execution_count": 160,
   "metadata": {},
   "outputs": [
    {
     "data": {
      "image/png": "[encoded data removed]",
      "text/plain": [
       "<Figure size 288x288 with 1 Axes>"
      ]
     },
     "metadata": {
      "needs_background": "light"
     },
     "output_type": "display_data"
    }
   ],
   "source": [
    "x = picfromdf(labeleddf,3)\n"
   ]
  },
  {
   "cell_type": "code",
   "execution_count": 12,
   "metadata": {},
   "outputs": [],
   "source": [
    "emodel = makeexplanaitionmodel(model)\n"
   ]
  },
  {
   "cell_type": "code",
   "execution_count": 64,
   "metadata": {},
   "outputs": [
    {
     "data": {
      "text/plain": [
       "Text(0.5, 1.0, 'Class imbalance')"
      ]
     },
     "execution_count": 64,
     "metadata": {},
     "output_type": "execute_result"
    },
    {
     "data": {
      "image/png": "[encoded data removed]",
      "text/plain": [
       "<Figure size 432x288 with 1 Axes>"
      ]
     },
     "metadata": {
      "needs_background": "light"
     },
     "output_type": "display_data"
    }
   ],
   "source": [
    "im.value_counts().plot.bar()\n",
    "plt.title('Class imbalance')\n"
   ]
  },
  {
   "cell_type": "code",
   "execution_count": 31,
   "metadata": {
    "scrolled": true
   },
   "outputs": [
    {
     "data": {
      "text/plain": [
       "Happy       8989\n",
       "Neutral     6198\n",
       "Sad         6077\n",
       "Fear        5121\n",
       "Anger       4953\n",
       "Surprise    4002\n",
       "Disgust      547\n",
       "Name: emotion, dtype: int64"
      ]
     },
     "execution_count": 31,
     "metadata": {},
     "output_type": "execute_result"
    }
   ],
   "source": [
    "im.value_counts()"
   ]
  },
  {
   "cell_type": "code",
   "execution_count": 22,
   "metadata": {
    "_uuid": "435d0e06553e3de3fd982e4a4a86c28018ac3913"
   },
   "outputs": [
    {
     "name": "stdout",
     "output_type": "stream",
     "text": [
      "7\n"
     ]
    }
   ],
   "source": [
    "X, Y = getData(filname)\n",
    "num_class = len(set(Y))\n",
    "print(num_class)"
   ]
  },
  {
   "cell_type": "code",
   "execution_count": 23,
   "metadata": {
    "_uuid": "f3c6bfb7aaf3c25ba7cdd5621e4d62b9eaa5502e"
   },
   "outputs": [
    {
     "name": "stdout",
     "output_type": "stream",
     "text": [
      "(35887, 48, 48, 1)\n"
     ]
    }
   ],
   "source": [
    "N, D = X.shape\n",
    "X = X.reshape(N, 48, 48, 1)\n",
    "cascade = load_cascade_classifier_xml()\n",
    "print(X.shape)"
   ]
  },
  {
   "cell_type": "code",
   "execution_count": 24,
   "metadata": {
    "_uuid": "be4faef86c3c5635697f10939547edd5c8760308"
   },
   "outputs": [],
   "source": [
    "\n",
    "X_train, X_test, y_train, y_test = train_test_split(X, Y, test_size=0.1, random_state=0)\n",
    "y_train = (np.arange(num_class) == y_train[:, None]).astype(np.float32)\n",
    "y_test = (np.arange(num_class) == y_test[:, None]).astype(np.float32)"
   ]
  },
  {
   "cell_type": "code",
   "execution_count": 89,
   "metadata": {
    "_uuid": "5004be413385dbdf6c3967d34c59e541095ea667"
   },
   "outputs": [],
   "source": [
    "path_model='model_filter.h5' # save model at this location after each epoch\n",
    "model=my_model() # create the model\n",
    "model.load_weights(path_model)\n",
    "# fit the model\n",
    "# h=model.fit(x=X_train,     \n",
    "#             y=y_train, \n",
    "#             batch_size=64, \n",
    "#             epochs=20, \n",
    "#             verbose=1, \n",
    "#             validation_data=(X_test,y_test),\n",
    "#             shuffle=True,\n",
    "#             callbacks=[\n",
    "#                 ModelCheckpoint(filepath=path_model),\n",
    "#             ]\n",
    "#             )"
   ]
  },
  {
   "cell_type": "code",
   "execution_count": 26,
   "metadata": {
    "_uuid": "0c7e2abb2a89f4df0d28de0a49db1f60c84fbcf0"
   },
   "outputs": [
    {
     "name": "stdout",
     "output_type": "stream",
     "text": [
      "[0 1 2 3 4 5 6]\n"
     ]
    }
   ],
   "source": [
    "objects = ('angry', 'disgust', 'fear', 'happy', 'sad', 'surprise', 'neutral')\n",
    "y_pos = np.arange(len(objects))\n",
    "print(y_pos)"
   ]
  },
  {
   "cell_type": "code",
   "execution_count": 90,
   "metadata": {
    "_uuid": "241291244491cc1e84a45ecb0da66c1c09a4cd7a"
   },
   "outputs": [
    {
     "name": "stdout",
     "output_type": "stream",
     "text": [
      "WARNING:tensorflow:From /opt/anaconda3/lib/python3.8/site-packages/tensorflow/python/keras/engine/training_v1.py:2070: Model.state_updates (from tensorflow.python.keras.engine.training) is deprecated and will be removed in a future version.\n",
      "Instructions for updating:\n",
      "This property should not be used in TensorFlow 2.0, as updates are applied automatically.\n"
     ]
    },
    {
     "name": "stderr",
     "output_type": "stream",
     "text": [
      "2020-11-11 17:26:10,654 WARNING From /opt/anaconda3/lib/python3.8/site-packages/tensorflow/python/keras/engine/training_v1.py:2070: Model.state_updates (from tensorflow.python.keras.engine.training) is deprecated and will be removed in a future version.\n",
      "Instructions for updating:\n",
      "This property should not be used in TensorFlow 2.0, as updates are applied automatically.\n"
     ]
    },
    {
     "data": {
      "text/plain": [
       "(3589, 7)"
      ]
     },
     "execution_count": 90,
     "metadata": {},
     "output_type": "execute_result"
    }
   ],
   "source": [
    "y_pred=model.predict(X_test)\n",
    "y_test.shape\n"
   ]
  },
  {
   "cell_type": "code",
   "execution_count": 28,
   "metadata": {},
   "outputs": [],
   "source": [
    "\n",
    "ly_pred = []\n",
    "for i in y_pred:\n",
    "    ly_pred.append(i.argmax())\n",
    "ly_test = []\n",
    "for i in y_test:\n",
    "    ly_test.append(i.argmax())"
   ]
  },
  {
   "cell_type": "code",
   "execution_count": 71,
   "metadata": {},
   "outputs": [
    {
     "data": {
      "image/png": "[encoded data removed]",
      "text/plain": [
       "<Figure size 576x576 with 2 Axes>"
      ]
     },
     "metadata": {
      "needs_background": "light"
     },
     "output_type": "display_data"
    }
   ],
   "source": [
    "from sklearn.metrics import confusion_matrix\n",
    "\n",
    "cm = tf.math.confusion_matrix(ly_pred,ly_test)\n",
    "def plot_confusion_matrix(cm, class_names):\n",
    "    \"\"\"\n",
    "    Returns a matplotlib figure containing the plotted confusion matrix.\n",
    "    \n",
    "    Args:\n",
    "       cm (array, shape = [n, n]): a confusion matrix of integer classes\n",
    "       class_names (array, shape = [n]): String names of the integer classes\n",
    "    \"\"\"\n",
    "    cm = np.array(cm)\n",
    "    figure = plt.figure(figsize=(8, 8))\n",
    "    plt.imshow(cm, interpolation='nearest', cmap=plt.cm.Blues)\n",
    "    plt.title(\"Confusion matrix\")\n",
    "    plt.colorbar()\n",
    "    tick_marks = np.arange(len(class_names))\n",
    "    plt.xticks(tick_marks, class_names, rotation=45)\n",
    "    plt.yticks(tick_marks, class_names)\n",
    "    \n",
    "    # Normalize the confusion matrix.\n",
    "    cm = np.around(cm.astype('float') / cm.sum(axis=1)[:, np.newaxis], decimals=2)\n",
    "    \n",
    "    # Use white text if squares are dark; otherwise black.\n",
    "    threshold = cm.max() / 2.\n",
    "    \n",
    "    for i, j in itertools.product(range(cm.shape[0]), range(cm.shape[1])):\n",
    "        color = \"white\" if cm[i, j] > threshold else \"black\"\n",
    "        plt.text(j, i, cm[i, j], horizontalalignment=\"center\", color=color)\n",
    "        \n",
    "    plt.tight_layout()\n",
    "    plt.ylabel('True label')\n",
    "    plt.xlabel('Predicted label')\n",
    "    return figure\n",
    "cm =plot_confusion_matrix(cm,label_map)"
   ]
  },
  {
   "cell_type": "code",
   "execution_count": 46,
   "metadata": {
    "scrolled": true
   },
   "outputs": [],
   "source": [
    "\n",
    "cap = cv2.VideoCapture(0)\n",
    "\n",
    "if not cap.isOpened():\n",
    "    raise IOError(\"Cannot open webcam\")\n",
    "sfps = 0\n",
    "  \n",
    "fps = 0\n",
    "while True:\n",
    "    ret, frame = cap.read()\n",
    "    baseframe = frame\n",
    "    \n",
    "\n",
    "    #logger.debug('postprocess+')\n",
    "    \n",
    "    coords,faces,faceframe = find_faces_in_img(frame,cascade)\n",
    "    if len(faces) < 1:\n",
    "        fps=time()\n",
    "        FPS=1/(fps-sfps)\n",
    "        sfps = fps \n",
    "\n",
    "        FPS = 'FPS:'+str(round(FPS,ndigits=3))\n",
    "        maketextaboveface(baseframe,FPS,(10,70))\n",
    "        cv2.imshow('feed', baseframe)\n",
    "        \n",
    "        c = cv2.waitKey(1)\n",
    "        if c == 27:\n",
    "            break\n",
    "\n",
    "        continue\n",
    "    for i in range(0,len(faces)):\n",
    "        face = faces[i]\n",
    "        frame = prep_image(face)\n",
    "\n",
    "        prediction = predict_emotion(frame,model)\n",
    "\n",
    "        text = 'Prediction = '+str(prediction)\n",
    "        maketextaboveface(baseframe,text,(coords[i][2],coords[i][0]))\n",
    "#     humans = e.inference(baseframe,\n",
    "#                          resize_to_default=(w > 0 and h > 0),\n",
    "#                          upsample_size=resize_out_ratio)\n",
    "#     image = TfPoseEstimator.draw_humans(baseframe, humans, imgcopy=False)\n",
    "    fps=time()\n",
    "    FPS=1/(fps-sfps)\n",
    "    sfps = fps\n",
    "    FPS = 'FPS:'+str(round(FPS,ndigits=3))+' & We Found '+str(len(faces))+ ' Face(s)!'\n",
    "    maketextaboveface(baseframe,FPS,(10,70))\n",
    "    cv2.imshow('feed', baseframe)\n",
    "    \n",
    "    c = cv2.waitKey(1)\n",
    "    if c == 27:\n",
    "        break\n",
    "\n",
    "cap.release()\n",
    "cv2.destroyAllWindows()\n"
   ]
  },
  {
   "cell_type": "code",
   "execution_count": 86,
   "metadata": {},
   "outputs": [],
   "source": [
    "import sys\n",
    "import time\n",
    "import logging\n",
    "import numpy as np\n",
    "import cv2\n",
    "\n",
    "from tf_pose import common\n",
    "from tf_pose.estimator import TfPoseEstimator\n",
    "from tf_pose.networks import get_graph_path, model_wh\n",
    "\n",
    "logger = logging.getLogger('TfPoseEstimator-WebCam')\n",
    "logger.setLevel(logging.DEBUG)\n",
    "ch = logging.StreamHandler()\n",
    "ch.setLevel(logging.DEBUG)\n",
    "formatter = logging.Formatter('[%(asctime)s] [%(name)s] [%(levelname)s] %(message)s')\n",
    "ch.setFormatter(formatter)\n",
    "logger.addHandler(ch)\n",
    "\n",
    "def str2bool(v):\n",
    "    return v.lower() in (\"yes\", \"true\", \"t\", \"1\")\n",
    "camera = 0\n",
    "resize = '432x368'     # resize images before they are processed\n",
    "resize_out_ratio = 4.0 # resize heatmaps before they are post-processed\n",
    "model = 'mobilenet_thin'\n",
    "show_process = False\n",
    "tensorrt = False       # for tensorrt process\n",
    "# logger.debug('initialization %s : %s' % (args.model, get_graph_path(args.model)))\n",
    "w, h = model_wh(resize)\n",
    "if w > 0 and h > 0:\n",
    "    e = TfPoseEstimator(get_graph_path(model), target_size=(w, h), trt_bool=False)\n",
    "else:\n",
    "    e = TfPoseEstimator(get_graph_path(model), target_size=(432, 368), trt_bool=False)\n",
    "# humans = e.inference(image,\n",
    "#                          resize_to_default=(w > 0 and h > 0),\n",
    "#                          upsample_size=resize_out_ratio)\n",
    "\n",
    "#     #logger.debug('postprocess+')\n",
    "#     image = TfPoseEstimator.draw_humans(image, humans, imgcopy=False)\n",
    "from IPython.display import clear_output\n",
    "clear_output()"
   ]
  },
  {
   "cell_type": "code",
   "execution_count": null,
   "metadata": {},
   "outputs": [],
   "source": [
    "\n",
    "sfps = 0\n",
    "  \n",
    "fps = 0\n",
    "while True:\n",
    "    img = pyautogui.screenshot()\n",
    "    frame = np.array(img)[1500:,900:]\n",
    "    frame = cv2.cvtColor(frame, cv2.COLOR_BGR2RGB)\n",
    "    baseframe = frame\n",
    "\n",
    "#     humans = e.inference(baseframe,\n",
    "#                           resize_to_default=(w > 0 and h > 0),\n",
    "#                           upsample_size=resize_out_ratio)\n",
    "\n",
    "#     image = TfPoseEstimator.draw_humans(baseframe, humans, imgcopy=False)\n",
    "    coords,faces,faceframe = find_faces_in_img(frame,cascade)\n",
    "    if len(faces) < 1:\n",
    "        fps=time()\n",
    "        FPS=1/(fps-sfps)\n",
    "        sfps = fps \n",
    "\n",
    "        FPS = 'FPS:'+str(round(FPS,ndigits=3))\n",
    "        maketextaboveface(baseframe,FPS,(10,70))\n",
    "        cv2.imshow('feed', baseframe)\n",
    "        \n",
    "        c = cv2.waitKey(1)\n",
    "        if c == 27:\n",
    "            break\n",
    "\n",
    "        continue\n",
    "    for i in range(0,len(faces)):\n",
    "        face = faces[i]\n",
    "        frame = prep_image(face)\n",
    "\n",
    "        prediction = predict_emotion(frame,model)\n",
    "\n",
    "        text = 'Prediction = '+str(prediction)\n",
    "        maketextaboveface(baseframe,text,(coords[i][2],coords[i][0]))\n",
    "    fps=time()\n",
    "    FPS=1/(fps-sfps)\n",
    "    sfps = fps\n",
    "    FPS = 'FPS:'+str(round(FPS,ndigits=3))+' & We Found '+str(len(faces))+ ' Face(s)!'\n",
    "    maketextaboveface(baseframe,FPS,(10,70))\n",
    "    cv2.imshow('feed', baseframe)\n",
    "    \n",
    "    c = cv2.waitKey(1)\n",
    "    if c == 27:\n",
    "        break\n",
    "\n",
    "cap.release()\n",
    "cv2.destroyAllWindows()"
   ]
  },
  {
   "cell_type": "code",
   "execution_count": 16,
   "metadata": {},
   "outputs": [
    {
     "data": {
      "text/plain": [
       "Point(x=1246, y=954)"
      ]
     },
     "execution_count": 16,
     "metadata": {},
     "output_type": "execute_result"
    }
   ],
   "source": [
    "pyautogui.position()"
   ]
  },
  {
   "cell_type": "code",
   "execution_count": 134,
   "metadata": {},
   "outputs": [
    {
     "ename": "NameError",
     "evalue": "name 'cascade' is not defined",
     "output_type": "error",
     "traceback": [
      "\u001b[0;31m---------------------------------------------------------------------------\u001b[0m",
      "\u001b[0;31mNameError\u001b[0m                                 Traceback (most recent call last)",
      "\u001b[0;32m<ipython-input-134-066011c8330e>\u001b[0m in \u001b[0;36m<module>\u001b[0;34m\u001b[0m\n\u001b[1;32m     15\u001b[0m     \u001b[0;31m#logger.debug('postprocess+')\u001b[0m\u001b[0;34m\u001b[0m\u001b[0;34m\u001b[0m\u001b[0;34m\u001b[0m\u001b[0m\n\u001b[1;32m     16\u001b[0m \u001b[0;31m#     image = TfPoseEstimator.draw_humans(baseframe, humans, imgcopy=False)\u001b[0m\u001b[0;34m\u001b[0m\u001b[0;34m\u001b[0m\u001b[0;34m\u001b[0m\u001b[0m\n\u001b[0;32m---> 17\u001b[0;31m     \u001b[0mcoords\u001b[0m\u001b[0;34m,\u001b[0m\u001b[0mfaces\u001b[0m\u001b[0;34m,\u001b[0m\u001b[0mfaceframe\u001b[0m \u001b[0;34m=\u001b[0m \u001b[0mfind_faces_in_img\u001b[0m\u001b[0;34m(\u001b[0m\u001b[0mframe\u001b[0m\u001b[0;34m,\u001b[0m\u001b[0mcascade\u001b[0m\u001b[0;34m)\u001b[0m\u001b[0;34m\u001b[0m\u001b[0;34m\u001b[0m\u001b[0m\n\u001b[0m\u001b[1;32m     18\u001b[0m \u001b[0;34m\u001b[0m\u001b[0m\n\u001b[1;32m     19\u001b[0m \u001b[0;34m\u001b[0m\u001b[0m\n",
      "\u001b[0;31mNameError\u001b[0m: name 'cascade' is not defined"
     ]
    }
   ],
   "source": [
    "\n",
    "cap = cv2.VideoCapture(0)\n",
    "\n",
    "if not cap.isOpened():\n",
    "    raise IOError(\"Cannot open webcam\")\n",
    "sfps = 0\n",
    "  \n",
    "fps = 0\n",
    "while True:\n",
    "    ret, frame = cap.read()\n",
    "    baseframe = frame\n",
    "#     humans = e.inference(baseframe,\n",
    "#                          resize_to_default=(w > 0 and h > 0),\n",
    "#                          upsample_size=resize_out_ratio)\n",
    "\n",
    "    #logger.debug('postprocess+')\n",
    "#     image = TfPoseEstimator.draw_humans(baseframe, humans, imgcopy=False)\n",
    "    coords,faces,faceframe = find_faces_in_img(frame,cascade)\n",
    "    \n",
    "        \n",
    "        \n",
    "    for i in range(0,len(faces)):\n",
    "        face = faces[i]\n",
    "        frame = prep_image(face)\n",
    "\n",
    "        prediction = predict_emotion(frame,model)\n",
    "\n",
    "        text = 'Prediction = '+str(prediction)\n",
    "        maketextaboveface(baseframe,text,(coords[i][1],coords[i][0]))\n",
    "    fps=time()\n",
    "    FPS=1/(fps-sfps)\n",
    "    sfps = fps\n",
    "    FPS = 'FPS:'+str(round(FPS,ndigits=3))+' & We Found '+str(len(faces))+ ' Face(s)!'\n",
    "    maketextaboveface(baseframe,FPS,(10,70))\n",
    "    cv2.imshow('feed', baseframe)\n",
    "    \n",
    "    c = cv2.waitKey(1)\n",
    "    if c == 27:\n",
    "        break\n",
    "\n",
    "cap.release()\n",
    "cv2.destroyAllWindows()"
   ]
  },
  {
   "cell_type": "code",
   "execution_count": 15,
   "metadata": {},
   "outputs": [],
   "source": [
    "def deprocess(img):\n",
    "    return tf.cast(img, tf.float32)\n",
    "\n",
    "# Display an image\n",
    "def show(img):\n",
    "    display.display(PIL.Image.fromarray(np.array(tf.cast(img, tf.uint8))))\n",
    "# Create the feature extraction model\n",
    "    \n",
    "def calc_loss(img, model):\n",
    "  # Pass forward the image through the model to retrieve the activations.\n",
    "  # Converts the image into a batch of size 1.\n",
    "    img_batch = tf.expand_dims(img, axis=0)\n",
    "    layer_activations = model(img_batch)\n",
    "    if len(layer_activations) == 1:\n",
    "        layer_activations = [layer_activations]\n",
    "\n",
    "    losses = []\n",
    "    for act in layer_activations:\n",
    "        loss = tf.math.reduce_mean(act)\n",
    "        losses.append(loss)\n",
    "\n",
    "    return  tf.reduce_sum(losses)\n",
    "class DeepDream(tf.Module):\n",
    "    def __init__(self, model):\n",
    "        self.model = model\n",
    "\n",
    "    @tf.function(\n",
    "        input_signature=(\n",
    "        tf.TensorSpec(shape=[None,None,3], dtype=tf.float32),\n",
    "        tf.TensorSpec(shape=[], dtype=tf.int32),\n",
    "        tf.TensorSpec(shape=[], dtype=tf.float32),))\n",
    "    def __call__(self, img, steps, step_size):\n",
    "        print(\"Tracing\")\n",
    "        loss = tf.constant(0.0)\n",
    "        for n in tf.range(steps):\n",
    "            with tf.GradientTape() as tape:\n",
    "                # This needs gradients relative to `img`\n",
    "          # `GradientTape` only watches `tf.Variable`s by default\n",
    "                tape.watch(img)\n",
    "                loss = calc_loss(img, self.model)\n",
    "\n",
    "        # Calculate the gradient of the loss with respect to the pixels of the input image.\n",
    "                gradients = tape.gradient(loss, img)\n",
    "\n",
    "        # Normalize the gradients.\n",
    "                gradients /= tf.math.reduce_std(gradients) + 1e-8 \n",
    "        \n",
    "        # In gradient ascent, the \"loss\" is maximized so that the input image increasingly \"excites\" the layers.\n",
    "        # You can update the image by directly adding the gradients (because they're the same shape!)\n",
    "                img = img + gradients*step_size\n",
    "#                 img = tf.clip_by_value(img, -1, 1)\n",
    "\n",
    "        return loss, img\n",
    "def run_deep_dream_simple(img, steps=100, step_size=0.01):\n",
    "      # Convert from uint8 to the range expected by the model.\n",
    "    img = tf.convert_to_tensor(img)\n",
    "    step_size = tf.convert_to_tensor(step_size)\n",
    "    steps_remaining = steps\n",
    "    step = 0\n",
    "    while steps_remaining:\n",
    "        if steps_remaining>100:\n",
    "            run_steps = tf.constant(100)\n",
    "        else:\n",
    "            run_steps = tf.constant(steps_remaining)\n",
    "        steps_remaining -= run_steps\n",
    "        step += run_steps\n",
    "    \n",
    "        loss, img = deepdream(img, run_steps, tf.constant(step_size))\n",
    "    \n",
    "        display.clear_output(wait=True)\n",
    "        show(img)\n",
    "        print (\"Step {}, loss {}\".format(step, loss))\n",
    "\n",
    "\n",
    "        result = img\n",
    "        display.clear_output(wait=True)\n",
    "        show(result)\n",
    "\n",
    "    return result\n",
    "def generatedeepdreamimg(imagebatch,model,imageposinbatch):\n",
    "    base_model = model\n",
    "\n",
    "    names = [name.name for name in  base_model.layers]\n",
    "    layers = [base_model.get_layer(name).output for name in names[:]]\n",
    "\n",
    "# Create the feature extraction model\n",
    "    dream_model = tf.keras.Model(inputs=base_model.input, outputs=layers)\n",
    "\n",
    "    original_img = np.array(imagebatch)\n",
    "    original_img = original_img[imageposinbatch]\n",
    "    original_img = ((original_img)).astype(np.float32)\n",
    "    dream_model = tf.keras.Model(inputs=base_model.input, outputs=layers)\n",
    "\n",
    "# show(deprocess(original_img))\n",
    "    deepdream = DeepDream(dream_model)\n",
    "    dream_img = run_deep_dream_simple(img=original_img, \n",
    "                                  steps=1000, step_size=0.5)\n",
    "    return dream_img"
   ]
  },
  {
   "cell_type": "code",
   "execution_count": 40,
   "metadata": {},
   "outputs": [],
   "source": [
    "base_model = model\n",
    "\n",
    "names = [name.name for name in  base_model.layers]\n",
    "layers = [base_model.get_layer(name).output for name in names[:]]\n",
    "\n",
    "# Create the feature extraction model\n",
    "dream_model = tf.keras.Model(inputs=base_model.input, outputs=layers)\n",
    "# coords,faces,faceframe = find_faces_in_img(frame,cascade)\n",
    "face = faces[0]\n",
    "frame = prep_image(face)\n",
    "pickedpic= frame\n",
    "\n",
    "# deepdream = DeepDream(dream_model)\n",
    "# dream_img = run_deep_dream_simple(img=pickedpic, \n",
    "#                                   steps=1000, step_size=0.5)\n"
   ]
  },
  {
   "cell_type": "code",
   "execution_count": 98,
   "metadata": {},
   "outputs": [],
   "source": [
    "cap = cv2.VideoCapture(0)\n",
    "\n",
    "if not cap.isOpened():\n",
    "    raise IOError(\"Cannot open webcam\")\n",
    "sfps = 0\n",
    "  \n",
    "fps = 0\n",
    "pics = []\n",
    "while True:\n",
    "    ret, frame = cap.read()\n",
    "    baseframe = frame\n",
    "    \n",
    "\n",
    "    #logger.debug('postprocess+')\n",
    "    \n",
    "    coords,faces,faceframe = find_faces_in_img(frame,cascade)\n",
    "    \n",
    "#     for i in range(0,len(faces)):\n",
    "#         face = faces[i]\n",
    "#         frame = prep_image(face)\n",
    "\n",
    "#         prediction = predict_emotion(frame,model)\n",
    "\n",
    "#         text = 'Prediction = '+str(prediction)\n",
    "#         maketextaboveface(baseframe,text,(coords[i][2],coords[i][0]))\n",
    "#     humans = e.inference(baseframe,\n",
    "#                          resize_to_default=(w > 0 and h > 0),\n",
    "#                          upsample_size=resize_out_ratio)\n",
    "#     image = TfPoseEstimator.draw_humans(baseframe, humans, imgcopy=False)\n",
    "#     fps=time()\n",
    "#     FPS=1/(fps-sfps)\n",
    "#     sfps = fps\n",
    "#     FPS = 'FPS:'+str(round(FPS,ndigits=3))+' & We Found '+str(len(faces))+ ' Face(s)!'\n",
    "#     maketextaboveface(baseframe,FPS,(10,70))\n",
    "\n",
    "    cv2.imshow('feed', baseframe)\n",
    "    \n",
    "    c = cv2.waitKey(33)\n",
    "    if c == 32:\n",
    "        coords,faces,faceframe = find_faces_in_img(baseframe,cascade)\n",
    "\n",
    "        for i in range(0,len(faces)):\n",
    "            \n",
    "            face = faces[i]\n",
    "            frame = prep_image(face)\n",
    "\n",
    "            prediction = predict_emotion(frame,model)\n",
    "\n",
    "            text = 'Prediction = '+str(prediction)\n",
    "            maketextaboveface(baseframe,text,(coords[i][2],coords[i][0]))\n",
    "            cv2.imshow(f'face{i}', face)\n",
    "            pics.append(face)\n",
    "    elif c == 27:\n",
    "        break\n",
    "cap.release()\n",
    "cv2.destroyAllWindows()\n"
   ]
  },
  {
   "cell_type": "code",
   "execution_count": 99,
   "metadata": {},
   "outputs": [],
   "source": [
    "myface = prep_image(face)"
   ]
  },
  {
   "cell_type": "code",
   "execution_count": 100,
   "metadata": {},
   "outputs": [],
   "source": [
    "import pickle as pkl\n",
    "pkl.dump(myface,open('myface.pkl','wb'))"
   ]
  },
  {
   "cell_type": "code",
   "execution_count": null,
   "metadata": {},
   "outputs": [],
   "source": []
  }
 ],
 "metadata": {
  "kernelspec": {
   "display_name": "Python 3",
   "language": "python",
   "name": "python3"
  },
  "language_info": {
   "codemirror_mode": {
    "name": "ipython",
    "version": 3
   },
   "file_extension": ".py",
   "mimetype": "text/x-python",
   "name": "python",
   "nbconvert_exporter": "python",
   "pygments_lexer": "ipython3",
   "version": "3.8.3"
  }
 },
 "nbformat": 4,
 "nbformat_minor": 1
}
